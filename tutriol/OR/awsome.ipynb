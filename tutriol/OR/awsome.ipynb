{
 "cells": [
  {
   "cell_type": "markdown",
   "id": "3d30032b",
   "metadata": {},
   "source": [
    "- [R-ML-survey](https://github.com/tinyzqh/OR-ML-survey)\n",
    "- [A Learning-based Iterative Method for Solving Vehicle Routing Problems](https://github.com/tinyzqh/l2i)\n",
    "- [NeurIPSIntopt](https://github.com/tinyzqh/NeurIPSIntopt)\n",
    "- [Reinforcement Learning for Solving the Vehicle Routing Problem](https://github.com/tinyzqh/VRP-RL)\n",
    "- [Learning to Optimize](https://github.com/tinyzqh/Learning-to-Optimize-Arxiv)\n",
    "- [运筹学原理相关代码的实现](https://github.com/tinyzqh/Operation)\n",
    "- [-TSP-](https://github.com/tinyzqh/-TSP-)\n",
    "- [用python写了一些最优化相关的算法。包括线性规划、线搜索、无约束优化、约束优化等](https://github.com/tinyzqh/optimize)\n",
    "- [Adaptive dynamic programming（ADP） 自适应动态规划](https://github.com/tinyzqh/Adaptive-dynamic-programming)\n",
    "- [自动驾驶算法python实现](https://github.com/tinyzqh/Autonomous_Planning_Algorithm)\n",
    "- [部分关于车辆路径规划问题（Vehicle Routing Problem, VRP）的算法](https://github.com/tinyzqh/Some_VRP_Algorithms)\n",
    "- [Hybrid solving process for combinatorial optimization problems](https://github.com/tinyzqh/hybrid-cp-rl-solver)\n",
    "- [Hybrid Models for Learning to Branch](https://github.com/tinyzqh/Hybrid-learn2branch)\n",
    "- [or-gym](https://github.com/tinyzqh/or-gym)\n",
    "- [aaai_predit_then_optimize](https://github.com/tinyzqh/aaai_predit_then_optimize)\n",
    "- [Learning to Solve Circuit-SAT: an Unsupervised Differentiable Approach](https://github.com/tinyzqh/circuit-sat)\n",
    "- [Learning to Dispatch for Job Shop Scheduling via Deep Reinforcement Learning](https://github.com/tinyzqh/L2D)\n",
    "- [Exact Combinatorial Optimization with Graph Convolutional Neural Networks](https://github.com/tinyzqh/learn2branch)\n",
    "- [优化笔记](https://github.com/tinyzqh/Optimization-Notes)\n",
    "- [Variable Selection for Branching in Mixed Integer Linear Programming (MILP)](https://github.com/tinyzqh/variable-selection)\n",
    "- [Branch to Learn](https://github.com/tinyzqh/branch2learn)"
   ]
  },
  {
   "cell_type": "code",
   "execution_count": null,
   "id": "b2b6c9f5",
   "metadata": {},
   "outputs": [],
   "source": []
  }
 ],
 "metadata": {
  "kernelspec": {
   "display_name": "Python 3 (ipykernel)",
   "language": "python",
   "name": "python3"
  },
  "language_info": {
   "codemirror_mode": {
    "name": "ipython",
    "version": 3
   },
   "file_extension": ".py",
   "mimetype": "text/x-python",
   "name": "python",
   "nbconvert_exporter": "python",
   "pygments_lexer": "ipython3",
   "version": "3.9.12"
  },
  "toc": {
   "base_numbering": 1,
   "nav_menu": {},
   "number_sections": true,
   "sideBar": true,
   "skip_h1_title": false,
   "title_cell": "Table of Contents",
   "title_sidebar": "Contents",
   "toc_cell": false,
   "toc_position": {},
   "toc_section_display": true,
   "toc_window_display": false
  }
 },
 "nbformat": 4,
 "nbformat_minor": 5
}
