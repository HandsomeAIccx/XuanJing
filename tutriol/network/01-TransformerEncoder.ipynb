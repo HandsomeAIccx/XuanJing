{
 "cells": [
  {
   "cell_type": "markdown",
   "id": "2b4331f9",
   "metadata": {},
   "source": [
    "## Embedding\n",
    "\n",
    "编码层，将one-hot向量编码为一个起始的cls token。一般的embedding都不带bias。"
   ]
  },
  {
   "cell_type": "code",
   "execution_count": 1,
   "id": "d844fabc",
   "metadata": {},
   "outputs": [
    {
     "name": "stderr",
     "output_type": "stream",
     "text": [
      "C:\\Users\\tinyzqh\\.conda\\envs\\inspir\\lib\\site-packages\\tqdm\\auto.py:22: TqdmWarning: IProgress not found. Please update jupyter and ipywidgets. See https://ipywidgets.readthedocs.io/en/stable/user_install.html\n",
      "  from .autonotebook import tqdm as notebook_tqdm\n"
     ]
    }
   ],
   "source": [
    "import torch\n",
    "import torch.nn as nn"
   ]
  },
  {
   "cell_type": "code",
   "execution_count": 4,
   "id": "5da56bc2",
   "metadata": {},
   "outputs": [],
   "source": [
    "class Embeddings(nn.Module):\n",
    "    def __init__(self, vocab, hidden_dim):\n",
    "        super(Embeddings, self).__init__()\n",
    "        self.lut = nn.Embedding(vocab, hidden_dim)\n",
    "    \n",
    "    def forward(self, x):\n",
    "        return self.lut(x)"
   ]
  },
  {
   "cell_type": "code",
   "execution_count": 6,
   "id": "5c17d7ed",
   "metadata": {},
   "outputs": [
    {
     "name": "stdout",
     "output_type": "stream",
     "text": [
      "torch.Size([2, 3, 128])\n"
     ]
    }
   ],
   "source": [
    "embedding_instance = Embeddings(10, 128)\n",
    "input_data = torch.LongTensor([[1, 2, 4], [4, 6, 3]])\n",
    "print(embedding_instance(input_data).size())"
   ]
  },
  {
   "cell_type": "markdown",
   "id": "18ba9abc",
   "metadata": {},
   "source": [
    "这里是one-hot形式的embedding，如果是直接对输入数据进行线性变换得到embedding的话，可以采用如下方式："
   ]
  },
  {
   "cell_type": "code",
   "execution_count": 8,
   "id": "6bf8ea70",
   "metadata": {},
   "outputs": [],
   "source": [
    "class Embeddings(nn.Module):\n",
    "    def __init__(self, input_size, output_size):\n",
    "        super(Embeddings, self).__init__()\n",
    "        self.lut = nn.Sequential(\n",
    "            nn.Linear(input_size, output_size)\n",
    "        )\n",
    "    \n",
    "    def forward(self, x):\n",
    "        return self.lut(x)"
   ]
  },
  {
   "cell_type": "code",
   "execution_count": 9,
   "id": "8aa961f4",
   "metadata": {},
   "outputs": [
    {
     "name": "stdout",
     "output_type": "stream",
     "text": [
      "torch.Size([64, 128])\n"
     ]
    }
   ],
   "source": [
    "embedding_instance = Embeddings(10, 128)\n",
    "input_data = torch.randn(64, 10)\n",
    "print(embedding_instance(input_data).size())"
   ]
  },
  {
   "cell_type": "markdown",
   "id": "00ca1cda",
   "metadata": {},
   "source": [
    "## Attention"
   ]
  },
  {
   "cell_type": "markdown",
   "id": "d5a69811",
   "metadata": {},
   "source": []
  },
  {
   "cell_type": "code",
   "execution_count": null,
   "id": "2ee0272c",
   "metadata": {},
   "outputs": [],
   "source": []
  }
 ],
 "metadata": {
  "kernelspec": {
   "display_name": "inspir",
   "language": "python",
   "name": "inspir"
  },
  "language_info": {
   "codemirror_mode": {
    "name": "ipython",
    "version": 3
   },
   "file_extension": ".py",
   "mimetype": "text/x-python",
   "name": "python",
   "nbconvert_exporter": "python",
   "pygments_lexer": "ipython3",
   "version": "3.8.13"
  },
  "toc": {
   "base_numbering": 1,
   "nav_menu": {},
   "number_sections": true,
   "sideBar": true,
   "skip_h1_title": false,
   "title_cell": "Table of Contents",
   "title_sidebar": "Contents",
   "toc_cell": false,
   "toc_position": {},
   "toc_section_display": true,
   "toc_window_display": true
  }
 },
 "nbformat": 4,
 "nbformat_minor": 5
}
