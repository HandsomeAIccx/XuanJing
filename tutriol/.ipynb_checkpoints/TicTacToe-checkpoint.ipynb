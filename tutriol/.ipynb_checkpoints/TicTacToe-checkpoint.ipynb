{
 "cells": [
  {
   "cell_type": "code",
   "execution_count": null,
   "id": "4cfc86ea",
   "metadata": {},
   "outputs": [],
   "source": []
  },
  {
   "cell_type": "code",
   "execution_count": null,
   "id": "733d7a09",
   "metadata": {},
   "outputs": [],
   "source": []
  },
  {
   "cell_type": "code",
   "execution_count": 1,
   "id": "af2ce16d",
   "metadata": {},
   "outputs": [],
   "source": [
    "class TicTacToeEnv(object):\n",
    "    def __init__(self):\n",
    "        self.pos2strMap = {\n",
    "            -1: '   ',\n",
    "            0: ' O ',\n",
    "            1: ' X '\n",
    "        }\n",
    "    def pos2str(self, n):\n",
    "        return TicTacToeState.pos2strMap[n]\n",
    "    \n",
    "    def reset(self):\n",
    "        self.choice = ()\n",
    "        self.turn = 0\n",
    "        self.board = [[-1 for _ in range(3)] for _ in range(3)];\n",
    "    \n",
    "    def step(self):\n",
    "        pass\n",
    "    \n",
    "    def render(self):\n",
    "        print(\"-----------\")\n",
    "        for row in self.board:\n",
    "            print(\"{0}|{1}|{2}\".format(self.pos2strMap[row[0]],\n",
    "                                       self.pos2strMap[row[1]],\n",
    "                                       self.pos2strMap[row[2]]))\n",
    "            print(\"-----------\")"
   ]
  },
  {
   "cell_type": "code",
   "execution_count": 2,
   "id": "9acea36f",
   "metadata": {},
   "outputs": [],
   "source": [
    "env = TicTacToeEnv()"
   ]
  },
  {
   "cell_type": "code",
   "execution_count": 3,
   "id": "a57e90f9",
   "metadata": {},
   "outputs": [
    {
     "name": "stdout",
     "output_type": "stream",
     "text": [
      "-----------\n",
      "   |   |   \n",
      "-----------\n",
      "   |   |   \n",
      "-----------\n",
      "   |   |   \n",
      "-----------\n"
     ]
    }
   ],
   "source": [
    "env.reset()\n",
    "env.render()"
   ]
  },
  {
   "cell_type": "code",
   "execution_count": null,
   "id": "7067fd05",
   "metadata": {},
   "outputs": [],
   "source": []
  }
 ],
 "metadata": {
  "kernelspec": {
   "display_name": "Python 3 (ipykernel)",
   "language": "python",
   "name": "python3"
  },
  "language_info": {
   "codemirror_mode": {
    "name": "ipython",
    "version": 3
   },
   "file_extension": ".py",
   "mimetype": "text/x-python",
   "name": "python",
   "nbconvert_exporter": "python",
   "pygments_lexer": "ipython3",
   "version": "3.9.12"
  },
  "toc": {
   "base_numbering": 1,
   "nav_menu": {},
   "number_sections": true,
   "sideBar": true,
   "skip_h1_title": false,
   "title_cell": "Table of Contents",
   "title_sidebar": "Contents",
   "toc_cell": false,
   "toc_position": {},
   "toc_section_display": true,
   "toc_window_display": false
  }
 },
 "nbformat": 4,
 "nbformat_minor": 5
}
