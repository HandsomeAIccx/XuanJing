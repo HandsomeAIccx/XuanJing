{
 "cells": [
  {
   "cell_type": "markdown",
   "id": "da900d80",
   "metadata": {},
   "source": [
    "- [Implementation of Machine Learning](https://github.com/tinyzqh/ml_implementation)\n",
    "- [李航](https://github.com/tinyzqh/lihang-code)\n",
    "- [lihang_book_algorithm](https://github.com/tinyzqh/lihang_book_algorithm)\n",
    "- [Machine-Learning-Algorithms](https://github.com/tinyzqh/Machine-Learning-Algorithms)\n",
    "- [对目前主流的机器学习算法进行公式推导、问题分析以及代码实现（主要基于numpy），持续更新（下面链接如果加载不出来，对应内容可在notebooks文件夹下找到）：](https://github.com/tinyzqh/ML_Notes)\n",
    "- [线性代数笔记](https://github.com/tinyzqh/notes-linear-algebra)\n",
    "- [机器学习算法Python实现](https://github.com/tinyzqh/MachineLearning_Python)\n",
    "- [统计学习方法（第一版）习题解答](https://github.com/tinyzqh/statistical-learning-method-solutions-manual)"
   ]
  },
  {
   "cell_type": "code",
   "execution_count": null,
   "id": "92a448cf",
   "metadata": {},
   "outputs": [],
   "source": []
  }
 ],
 "metadata": {
  "kernelspec": {
   "display_name": "Python 3 (ipykernel)",
   "language": "python",
   "name": "python3"
  },
  "language_info": {
   "codemirror_mode": {
    "name": "ipython",
    "version": 3
   },
   "file_extension": ".py",
   "mimetype": "text/x-python",
   "name": "python",
   "nbconvert_exporter": "python",
   "pygments_lexer": "ipython3",
   "version": "3.9.12"
  },
  "toc": {
   "base_numbering": 1,
   "nav_menu": {},
   "number_sections": true,
   "sideBar": true,
   "skip_h1_title": false,
   "title_cell": "Table of Contents",
   "title_sidebar": "Contents",
   "toc_cell": false,
   "toc_position": {},
   "toc_section_display": true,
   "toc_window_display": false
  }
 },
 "nbformat": 4,
 "nbformat_minor": 5
}
